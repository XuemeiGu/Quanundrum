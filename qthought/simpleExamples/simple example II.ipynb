{
 "cells": [
  {
   "cell_type": "markdown",
   "metadata": {},
   "source": [
    "# A simple example II"
   ]
  },
  {
   "cell_type": "markdown",
   "metadata": {},
   "source": [
    "### Installation instruction"
   ]
  },
  {
   "cell_type": "markdown",
   "metadata": {},
   "source": [
    "It is recommended that you clone the qthought repository to your local machine and then run"
   ]
  },
  {
   "cell_type": "raw",
   "metadata": {},
   "source": [
    "pip install ."
   ]
  },
  {
   "cell_type": "markdown",
   "metadata": {},
   "source": [
    "in the qthought folder. If you did not pip install qthought, you can use the following quick-fix by uncommenting and adapting to your local file path"
   ]
  },
  {
   "cell_type": "code",
   "execution_count": 3,
   "metadata": {},
   "outputs": [],
   "source": [
    "# import sys\n",
    "# import os\n",
    "# to run the example, set the following path to the folder path of qthought on your machine\n",
    "# sys.path.append(os.path.abspath('/Users/nuri/qthought/qthought')) "
   ]
  },
  {
   "cell_type": "markdown",
   "metadata": {},
   "source": [
    "### Start of the example"
   ]
  },
  {
   "cell_type": "markdown",
   "metadata": {},
   "source": [
    "This is a detailed explanation of how to write a simple protocol for two parties thought experiment. Prior to reading this, it is recommended to take a look at the PDF description file *simple_examples*."
   ]
  },
  {
   "cell_type": "markdown",
   "metadata": {},
   "source": [
    "First, we import the ProjectQ operations needed for the protocol. To initialize the state of the qubit Alice and Bob measure sequentially, we need the Hadamard gate.\n",
    "We also import *Protocol* and *ProtocolStep* classes to be able to define steps of the protocol; *QuantumSystem* to operate quantum systems of different dimensionality; *Agent* class and all functions from the *copenhagen_theory* module.\n",
    "We don't import *consistency* rules here, as in this example agents don't have to look at each other's viewpoints and glue them together. For an example where they do, please refer to the Frauchiger-Renner thought experiment protocol."
   ]
  },
  {
   "cell_type": "code",
   "execution_count": 6,
   "metadata": {
    "scrolled": true
   },
   "outputs": [],
   "source": [
    "import qthought.utils as ut\n",
    "from qthought.protocol import Protocol, ProtocolStep\n",
    "from qthought.quantumsystem import QuantumSystem\n",
    "from qthought.agents import Agent\n",
    "from qthought.interpretations.copenhagen_theory import *\n",
    "from projectq.ops import H"
   ]
  },
  {
   "cell_type": "markdown",
   "metadata": {},
   "source": [
    "The first action of the protocol (at time $t=0$) is the initilization of a qubit *s* in a $\\frac{1}{\\sqrt{2}} (|0> + |1>)$ state. After defining the action, we define the step of the protocol by specifying: domain of action; written description of the action, which will be used for printouts during the run; time of the step; and which action variable being described."
   ]
  },
  {
   "cell_type": "code",
   "execution_count": 7,
   "metadata": {},
   "outputs": [],
   "source": [
    "def action1(qsys:QuantumSystem):\n",
    "    H | qsys['s']\n",
    "    \n",
    "step1 = ProtocolStep(domain={'Qubit': 's'},\n",
    "                     descr = 'Prepare Qubit s by applying H ',\n",
    "                     time  = 0,\n",
    "                     action = action1)"
   ]
  },
  {
   "cell_type": "markdown",
   "metadata": {},
   "source": [
    "In the second action ($t=1$) Alice measures *s* and writes down the result to her memory. Here the *observe* function comes in play: first variable corresponds to the memory (*Alice_memory*), and the second variable - to the system being measured (*alice_qubit*). In the *step2* variable, we again specify the step by its domain - which now includes an object *Alice* of the class *Agent* with 1 memory qubit."
   ]
  },
  {
   "cell_type": "code",
   "execution_count": 8,
   "metadata": {},
   "outputs": [],
   "source": [
    "def action2(qsys:QuantumSystem):\n",
    "    observe(qsys['Alice_memory'],qsys['s'])\n",
    "    \n",
    "step2 = ProtocolStep(domain={'Qubit': 's',\n",
    "                             'AgentMemory(1)': 'Alice'},\n",
    "                     descr = 'Alice observes s',\n",
    "                     time  = 1,\n",
    "                     action = action2)"
   ]
  },
  {
   "cell_type": "markdown",
   "metadata": {},
   "source": [
    "At $t=2$, Bob makes a measurement of *s*, and writes it down to his memory."
   ]
  },
  {
   "cell_type": "code",
   "execution_count": 9,
   "metadata": {},
   "outputs": [],
   "source": [
    "def action3(qsys:QuantumSystem):\n",
    "    observe(qsys['Bob_memory'],qsys['s'])\n",
    "    \n",
    "step3 = ProtocolStep(domain={'Qubit': 's',\n",
    "                             'AgentMemory(1)': 'Bob'},\n",
    "                     descr = 'Bob observes s',\n",
    "                     time  = 2,\n",
    "                     action = action3)"
   ]
  },
  {
   "cell_type": "markdown",
   "metadata": {},
   "source": [
    "We glue together all steps of the protocol."
   ]
  },
  {
   "cell_type": "code",
   "execution_count": 10,
   "metadata": {
    "scrolled": false
   },
   "outputs": [],
   "source": [
    "#p = Protocol()\n",
    "p = step1 + step2 + step3"
   ]
  },
  {
   "cell_type": "markdown",
   "metadata": {},
   "source": [
    "Now we can print out the full protocol and all systems required to run it."
   ]
  },
  {
   "cell_type": "code",
   "execution_count": 11,
   "metadata": {},
   "outputs": [
    {
     "data": {
      "text/plain": [
       "Step 0: Prepare Qubit s by applying H (t:0)\n",
       "Step 1: Alice observes s(t:1)\n",
       "Step 2: Bob observes s(t:2)\n",
       "\n",
       "Requirements: \n",
       "------------------------------\n",
       "Qubit             ['s']\n",
       "AgentMemory(1)    ['Bob', 'Alice']"
      ]
     },
     "execution_count": 11,
     "metadata": {},
     "output_type": "execute_result"
    }
   ],
   "source": [
    "p"
   ]
  },
  {
   "cell_type": "markdown",
   "metadata": {},
   "source": [
    "We are ready to run, and see the evolution of the joint state of systems *s*, *Alice_memory* and *Bob_memory*. In the first line we initialize the quantum system of the setting according to the requirements of the protocol."
   ]
  },
  {
   "cell_type": "code",
   "execution_count": 12,
   "metadata": {
    "scrolled": true
   },
   "outputs": [
    {
     "name": "stdout",
     "output_type": "stream",
     "text": [
      "(Note: This is the (slow) Python simulator.)\n",
      "Require Qubit s\n",
      "Require AgentMemory(1) Bob\n",
      "Require AgentMemory(1) Alice\n",
      "0 Prepare Qubit s by applying H  t:0\n",
      "State:\n",
      "0.71|0\u001b[0m\u001b[31m0\u001b[0m\u001b[34m0\u001b[0m> + 0.71|0\u001b[0m\u001b[31m0\u001b[0m\u001b[34m1\u001b[0m>\n",
      "1 Alice observes s t:1\n",
      "State:\n",
      "0.71|0\u001b[0m\u001b[31m0\u001b[0m\u001b[34m0\u001b[0m> + 0.71|1\u001b[0m\u001b[31m0\u001b[0m\u001b[34m1\u001b[0m>\n",
      "2 Bob observes s t:2\n",
      "State:\n",
      "0.71|0\u001b[0m\u001b[31m0\u001b[0m\u001b[34m0\u001b[0m> + 0.71|1\u001b[0m\u001b[31m1\u001b[0m\u001b[34m1\u001b[0m>\n"
     ]
    }
   ],
   "source": [
    "qsys = QuantumSystem(p.get_requirements())\n",
    "p.run(qsys)"
   ]
  },
  {
   "cell_type": "markdown",
   "metadata": {},
   "source": [
    "We can also check the inferences Alice and Bob can make about each other's outcomes. First, we define an inference table of Alice reasoning about Bob. Here we use *forward_inference*, as Alice is reasoning about a later step."
   ]
  },
  {
   "cell_type": "code",
   "execution_count": 13,
   "metadata": {},
   "outputs": [
    {
     "name": "stdout",
     "output_type": "stream",
     "text": [
      "(Note: This is the (slow) Python simulator.)\n"
     ]
    },
    {
     "data": {
      "text/plain": [
       "In:(Alice_memory:t1)  |  Out: (Bob_memory:t2)\n",
       "----------------------------------------------------\n",
       "           0          |        [0]\n",
       "           1          |        [1]"
      ]
     },
     "execution_count": 13,
     "metadata": {},
     "output_type": "execute_result"
    }
   ],
   "source": [
    "forward_inference(p, 'Alice_memory', 1, 'Bob_memory', 2)"
   ]
  },
  {
   "cell_type": "markdown",
   "metadata": {},
   "source": [
    "Bob is reasoning about an earlier step, so here we use *backward_inference*."
   ]
  },
  {
   "cell_type": "code",
   "execution_count": 14,
   "metadata": {},
   "outputs": [
    {
     "name": "stdout",
     "output_type": "stream",
     "text": [
      "(Note: This is the (slow) Python simulator.)\n"
     ]
    },
    {
     "data": {
      "text/plain": [
       "In:(Bob_memory:t2)    |  Out: (Alice_memory:t1)\n",
       "------------------------------------------------------\n",
       "           0          |        [0]\n",
       "           1          |        [1]"
      ]
     },
     "execution_count": 14,
     "metadata": {},
     "output_type": "execute_result"
    }
   ],
   "source": [
    "backward_inference(p, 'Alice_memory', 1, 'Bob_memory', 2)"
   ]
  },
  {
   "cell_type": "markdown",
   "metadata": {},
   "source": [
    "We see that in our model Alice's and Bob's memories are consistently correlated with each other."
   ]
  }
 ],
 "metadata": {
  "kernelspec": {
   "display_name": "Python 3",
   "language": "python",
   "name": "python3"
  },
  "language_info": {
   "codemirror_mode": {
    "name": "ipython",
    "version": 3
   },
   "file_extension": ".py",
   "mimetype": "text/x-python",
   "name": "python",
   "nbconvert_exporter": "python",
   "pygments_lexer": "ipython3",
   "version": "3.7.3"
  },
  "pycharm": {
   "stem_cell": {
    "cell_type": "raw",
    "metadata": {
     "collapsed": false
    },
    "source": []
   }
  }
 },
 "nbformat": 4,
 "nbformat_minor": 2
}
