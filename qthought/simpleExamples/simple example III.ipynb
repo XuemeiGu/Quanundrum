{
 "cells": [
  {
   "cell_type": "markdown",
   "metadata": {},
   "source": [
    "# A simple example III "
   ]
  },
  {
   "cell_type": "markdown",
   "metadata": {},
   "source": [
    "### Installation instruction"
   ]
  },
  {
   "cell_type": "markdown",
   "metadata": {},
   "source": [
    "It is recommended that you clone the qthought repository to your local machine and then run"
   ]
  },
  {
   "cell_type": "raw",
   "metadata": {},
   "source": [
    "pip install ."
   ]
  },
  {
   "cell_type": "markdown",
   "metadata": {},
   "source": [
    "in the qthought folder. If you did not pip install qthought, you can use the following quick-fix by uncommenting and adapting to your local file path"
   ]
  },
  {
   "cell_type": "code",
   "execution_count": null,
   "metadata": {},
   "outputs": [],
   "source": [
    "# import sys\n",
    "# import os\n",
    "# to run the example, set the following path to the folder path of qthought on your machine\n",
    "# sys.path.append(os.path.abspath('/Users/nuri/qthought/qthought')) "
   ]
  },
  {
   "cell_type": "markdown",
   "metadata": {},
   "source": [
    "### Start of the example"
   ]
  },
  {
   "cell_type": "markdown",
   "metadata": {},
   "source": [
    "This is a detailed explanation of how to write a simple protocol for two parties thought experiment. Prior to reading this, it is recommended to take a look at the PDF description file *simple_examples*."
   ]
  },
  {
   "cell_type": "markdown",
   "metadata": {},
   "source": [
    "First, we import the ProjectQ operations needed for the protocol. To initialize the state of the qubit Alice and Bob measure sequentially, we need the Hadamard gate.\n",
    "We also import *Protocol* and *ProtocolStep* classes to be able to define steps of the protocol; *QuantumSystem* to operate quantum systems of different dimensionality; *Agent* class and all functions from the *copenhagen_theory* module.\n",
    "We don't import *consistency* rules here, as in this example agents don't have to look at each other's viewpoints and glue them together. For an example where they do, please refer to the Frauchiger-Renner thought experiment protocol."
   ]
  },
  {
   "cell_type": "code",
   "execution_count": 50,
   "metadata": {
    "scrolled": true
   },
   "outputs": [],
   "source": [
    "import qthought.utils as ut\n",
    "from qthought.protocol import Protocol, ProtocolStep\n",
    "from qthought.quantumsystem import QuantumSystem\n",
    "from qthought.agents import Agent\n",
    "from qthought.interpretations.copenhagen_theory import *\n",
    "from projectq.ops import H, Measure"
   ]
  },
  {
   "cell_type": "markdown",
   "metadata": {},
   "source": [
    "The first action of the protocol (at time $t=0$) is the initilization of a qubit *s* in a $\\frac{1}{\\sqrt{2}} (|0> + |1>)$ state. After defining the action, we define the step of the protocol by specifying: domain of action; written description of the action, which will be used for printouts during the run; time of the step; and which action variable being described."
   ]
  },
  {
   "cell_type": "code",
   "execution_count": 38,
   "metadata": {},
   "outputs": [],
   "source": [
    "# Step 1: The qubit R is prepared\n",
    "# ----------------------------------------------------------\n",
    "def action1(qsys:QuantumSystem):\n",
    "    H | qsys['r']\n",
    "    \n",
    "step1 = ProtocolStep(domain={'Qubit': ['r']},\n",
    "                     descr = 'Prepare Qubit R by applying H ',\n",
    "                     time  = 0,\n",
    "                     action = action1)"
   ]
  },
  {
   "cell_type": "markdown",
   "metadata": {},
   "source": [
    "In the second action ($t=1$) Alice measures *R* and writes down the result to her memory. Here the *observe* function comes in play: first variable corresponds to the memory (*Alice_memory*), and the second variable - to the system being measured (*alice_qubit*). In the *step2* variable, we again specify the step by its domain - which now includes an object *Alice* of the class *Agent* with 1 memory qubit."
   ]
  },
  {
   "cell_type": "code",
   "execution_count": 39,
   "metadata": {},
   "outputs": [],
   "source": [
    "# Step 2: Alice measures the qubit R\n",
    "# ----------------------------------------------------------\n",
    "def action2(qsys:QuantumSystem):\n",
    "    observe(qsys['Alice_memory'],qsys['r'])\n",
    "    \n",
    "step2 = ProtocolStep(domain={'Qubit': ['r'],\n",
    "                             'AgentMemory(1)': ['Alice']},\n",
    "                     descr = 'Alice observes R',\n",
    "                     time  = 1,\n",
    "                     action = action2)"
   ]
  },
  {
   "cell_type": "markdown",
   "metadata": {},
   "source": [
    "At $t=2$, Alice makes an inference (which one, we will define later)."
   ]
  },
  {
   "cell_type": "code",
   "execution_count": 40,
   "metadata": {},
   "outputs": [],
   "source": [
    "# Step 3: Alice makes inference\n",
    "# ----------------------------------------------------------\n",
    "def action3(qsys):\n",
    "    qsys['Alice'].make_inference()\n",
    "\n",
    "\n",
    "step3 = ProtocolStep(domain={'Agent(1,1)': ['Alice']},\n",
    "                     descr='Alice makes an inference',\n",
    "                     time=2,\n",
    "                     action=action3)"
   ]
  },
  {
   "cell_type": "markdown",
   "metadata": {},
   "source": [
    "At $t=3$, her reasoning and her measurement is reversed by Bob."
   ]
  },
  {
   "cell_type": "code",
   "execution_count": 41,
   "metadata": {},
   "outputs": [],
   "source": [
    "# Step 4: Reverse inference making in Alice\n",
    "# ----------------------------------------------------------\n",
    "def action4(qsys):\n",
    "    qsys['Alice'].make_inference(reverse=True)\n",
    "    observe(qsys['Alice_memory'], qsys['r'], reverse=True)\n",
    "\n",
    "\n",
    "step4 = ProtocolStep(domain={'Agent(1,1)': ['Alice']},\n",
    "                      descr='Reverse Alice reasoning',\n",
    "                      time=3,\n",
    "                      action=action4)"
   ]
  },
  {
   "cell_type": "markdown",
   "metadata": {},
   "source": [
    "At $t=4$, Bob measures Alice's memory."
   ]
  },
  {
   "cell_type": "code",
   "execution_count": 42,
   "metadata": {},
   "outputs": [],
   "source": [
    "# Step 6: Bob measures Alice's memory qubit\n",
    "# ----------------------------------------------------------\n",
    "def action5(qsys:QuantumSystem):\n",
    "    observe(qsys['Bob_memory'],qsys['Alice_memory'])\n",
    "    \n",
    "step5 = ProtocolStep(domain={'AgentMemory(1)': ['Alice'],\n",
    "                             'AgentMemory(1)': ['Bob']},\n",
    "                     descr = 'Bob observes Alice',\n",
    "                     time  = 4,\n",
    "                     action = action5)"
   ]
  },
  {
   "cell_type": "markdown",
   "metadata": {},
   "source": [
    "Now we define the protocol as sum of its steps."
   ]
  },
  {
   "cell_type": "code",
   "execution_count": 43,
   "metadata": {},
   "outputs": [
    {
     "data": {
      "text/plain": [
       "Step 0: Prepare Qubit R by applying H (t:0)\n",
       "Step 1: Alice observes R(t:1)\n",
       "Step 2: Alice makes an inference(t:2)\n",
       "Step 3: Reverse Alice reasoning(t:3)\n",
       "Step 4: Bob observes Alice(t:4)\n",
       "\n",
       "Requirements: \n",
       "------------------------------\n",
       "Qubit             ['r']\n",
       "AgentMemory(1)    ['Bob']\n",
       "Agent(1,1)        ['Alice']"
      ]
     },
     "execution_count": 43,
     "metadata": {},
     "output_type": "execute_result"
    }
   ],
   "source": [
    "p_steps = [step1, step2, step3, step4, step5]\n",
    "p = sum(p_steps)\n",
    "p "
   ]
  },
  {
   "cell_type": "markdown",
   "metadata": {},
   "source": [
    "We initialize the quantum system by obtaining the requirements from the protocol *p*."
   ]
  },
  {
   "cell_type": "code",
   "execution_count": 58,
   "metadata": {},
   "outputs": [
    {
     "name": "stdout",
     "output_type": "stream",
     "text": [
      "(Note: This is the (slow) Python simulator.)\n",
      "Require Qubit r\n",
      "Require AgentMemory(1) Bob\n",
      "Require Agent(1,1) Alice\n"
     ]
    },
    {
     "name": "stderr",
     "output_type": "stream",
     "text": [
      "Exception ignored in: <function Qubit.__del__ at 0x7fc661377d90>\n",
      "Traceback (most recent call last):\n",
      "  File \"/Users/nuri/.local/lib/python3.7/site-packages/projectq/types/_qubit.py\", line 135, in __del__\n",
      "    self.engine.deallocate_qubit(weak_copy)\n",
      "  File \"/Users/nuri/.local/lib/python3.7/site-packages/projectq/cengines/_basics.py\", line 153, in deallocate_qubit\n",
      "    tags=[DirtyQubitTag()] if is_dirty else [])])\n",
      "  File \"/Users/nuri/.local/lib/python3.7/site-packages/projectq/cengines/_main.py\", line 288, in send\n",
      "    raise compact_exception  # use verbose=True for more info\n",
      "RuntimeError: Qubit has not been measured / uncomputed. Cannot access its classical value and/or deallocate a qubit in superposition!\n",
      " raised in:\n",
      "'  File \"/Users/nuri/.local/lib/python3.7/site-packages/projectq/backends/_sim/_pysim.py\", line 139, in get_classical_value'\n",
      "'    raise RuntimeError(\"Qubit has not been measured / \"'\n",
      "Exception ignored in: <function Qubit.__del__ at 0x7fc661377d90>\n",
      "Traceback (most recent call last):\n",
      "  File \"/Users/nuri/.local/lib/python3.7/site-packages/projectq/types/_qubit.py\", line 135, in __del__\n",
      "    self.engine.deallocate_qubit(weak_copy)\n",
      "  File \"/Users/nuri/.local/lib/python3.7/site-packages/projectq/cengines/_basics.py\", line 153, in deallocate_qubit\n",
      "    tags=[DirtyQubitTag()] if is_dirty else [])])\n",
      "  File \"/Users/nuri/.local/lib/python3.7/site-packages/projectq/cengines/_main.py\", line 288, in send\n",
      "    raise compact_exception  # use verbose=True for more info\n",
      "RuntimeError: Qubit has not been measured / uncomputed. Cannot access its classical value and/or deallocate a qubit in superposition!\n",
      " raised in:\n",
      "'  File \"/Users/nuri/.local/lib/python3.7/site-packages/projectq/backends/_sim/_pysim.py\", line 139, in get_classical_value'\n",
      "'    raise RuntimeError(\"Qubit has not been measured / \"'\n",
      "Exception ignored in: <function Qubit.__del__ at 0x7fc661377d90>\n",
      "Traceback (most recent call last):\n",
      "  File \"/Users/nuri/.local/lib/python3.7/site-packages/projectq/types/_qubit.py\", line 135, in __del__\n",
      "    self.engine.deallocate_qubit(weak_copy)\n",
      "  File \"/Users/nuri/.local/lib/python3.7/site-packages/projectq/cengines/_basics.py\", line 153, in deallocate_qubit\n",
      "    tags=[DirtyQubitTag()] if is_dirty else [])])\n",
      "  File \"/Users/nuri/.local/lib/python3.7/site-packages/projectq/cengines/_main.py\", line 288, in send\n",
      "    raise compact_exception  # use verbose=True for more info\n",
      "RuntimeError: Qubit has not been measured / uncomputed. Cannot access its classical value and/or deallocate a qubit in superposition!\n",
      " raised in:\n",
      "'  File \"/Users/nuri/.local/lib/python3.7/site-packages/projectq/backends/_sim/_pysim.py\", line 139, in get_classical_value'\n",
      "'    raise RuntimeError(\"Qubit has not been measured / \"'\n",
      "Exception ignored in: <function Qubit.__del__ at 0x7fc661377d90>\n",
      "Traceback (most recent call last):\n",
      "  File \"/Users/nuri/.local/lib/python3.7/site-packages/projectq/types/_qubit.py\", line 135, in __del__\n",
      "    self.engine.deallocate_qubit(weak_copy)\n",
      "  File \"/Users/nuri/.local/lib/python3.7/site-packages/projectq/cengines/_basics.py\", line 153, in deallocate_qubit\n",
      "    tags=[DirtyQubitTag()] if is_dirty else [])])\n",
      "  File \"/Users/nuri/.local/lib/python3.7/site-packages/projectq/cengines/_main.py\", line 288, in send\n",
      "    raise compact_exception  # use verbose=True for more info\n",
      "RuntimeError: Qubit has not been measured / uncomputed. Cannot access its classical value and/or deallocate a qubit in superposition!\n",
      " raised in:\n",
      "'  File \"/Users/nuri/.local/lib/python3.7/site-packages/projectq/backends/_sim/_pysim.py\", line 139, in get_classical_value'\n",
      "'    raise RuntimeError(\"Qubit has not been measured / \"'\n",
      "Exception ignored in: <function Qubit.__del__ at 0x7fc661377d90>\n",
      "Traceback (most recent call last):\n",
      "  File \"/Users/nuri/.local/lib/python3.7/site-packages/projectq/types/_qubit.py\", line 135, in __del__\n",
      "    self.engine.deallocate_qubit(weak_copy)\n",
      "  File \"/Users/nuri/.local/lib/python3.7/site-packages/projectq/cengines/_basics.py\", line 153, in deallocate_qubit\n",
      "    tags=[DirtyQubitTag()] if is_dirty else [])])\n",
      "  File \"/Users/nuri/.local/lib/python3.7/site-packages/projectq/cengines/_main.py\", line 288, in send\n",
      "    raise compact_exception  # use verbose=True for more info\n",
      "RuntimeError: Qubit has not been measured / uncomputed. Cannot access its classical value and/or deallocate a qubit in superposition!\n",
      " raised in:\n",
      "'  File \"/Users/nuri/.local/lib/python3.7/site-packages/projectq/backends/_sim/_pysim.py\", line 139, in get_classical_value'\n",
      "'    raise RuntimeError(\"Qubit has not been measured / \"'\n",
      "Exception ignored in: <function Qubit.__del__ at 0x7fc661377d90>\n",
      "Traceback (most recent call last):\n",
      "  File \"/Users/nuri/.local/lib/python3.7/site-packages/projectq/types/_qubit.py\", line 135, in __del__\n",
      "    self.engine.deallocate_qubit(weak_copy)\n",
      "  File \"/Users/nuri/.local/lib/python3.7/site-packages/projectq/cengines/_basics.py\", line 153, in deallocate_qubit\n",
      "    tags=[DirtyQubitTag()] if is_dirty else [])])\n",
      "  File \"/Users/nuri/.local/lib/python3.7/site-packages/projectq/cengines/_main.py\", line 288, in send\n",
      "    raise compact_exception  # use verbose=True for more info\n",
      "RuntimeError: Qubit has not been measured / uncomputed. Cannot access its classical value and/or deallocate a qubit in superposition!\n",
      " raised in:\n",
      "'  File \"/Users/nuri/.local/lib/python3.7/site-packages/projectq/backends/_sim/_pysim.py\", line 139, in get_classical_value'\n",
      "'    raise RuntimeError(\"Qubit has not been measured / \"'\n"
     ]
    }
   ],
   "source": [
    "qsys = QuantumSystem(p.get_requirements())"
   ]
  },
  {
   "cell_type": "markdown",
   "metadata": {},
   "source": [
    "Alice's inference is about the state of Bob's memory after he measures hers at the time $t=4$. In this protocol, we only use the partial inference for Alice's prediction: she only infers what happens in the case when her memory starts in the state |0> (which is the default initial state of the memory). The funnction then takes form *forward_inference_partial(protocol, 'A_memory', a=0, t_A, 'B_memory', t_B)*."
   ]
  },
  {
   "cell_type": "code",
   "execution_count": 56,
   "metadata": {},
   "outputs": [
    {
     "name": "stdout",
     "output_type": "stream",
     "text": [
      "(Note: This is the (slow) Python simulator.)\n"
     ]
    },
    {
     "name": "stderr",
     "output_type": "stream",
     "text": [
      "/Users/nuri/anaconda3/lib/python3.7/site-packages/qthought/agents.py:214: UserWarning: make_inference called without setting an inference_table\n",
      "  warn('make_inference called without setting an inference_table')\n",
      "/Users/nuri/anaconda3/lib/python3.7/site-packages/qthought/agents.py:214: UserWarning: make_inference called without setting an inference_table\n",
      "  warn('make_inference called without setting an inference_table')\n"
     ]
    }
   ],
   "source": [
    "TA = forward_inference_partial(p, 'Alice_memory', 0, 1, 'Bob_memory', 4)"
   ]
  },
  {
   "cell_type": "markdown",
   "metadata": {},
   "source": [
    "We prepare the inference table of Alice."
   ]
  },
  {
   "cell_type": "code",
   "execution_count": 47,
   "metadata": {},
   "outputs": [],
   "source": [
    "no_prediction_state = 1\n",
    "qsys['Alice'].set_inference_table(TA, no_prediction_state)\n",
    "qsys['Alice'].prep_inference() "
   ]
  },
  {
   "cell_type": "markdown",
   "metadata": {},
   "source": [
    "Finally, we run the protocol."
   ]
  },
  {
   "cell_type": "code",
   "execution_count": 48,
   "metadata": {
    "scrolled": false
   },
   "outputs": [
    {
     "name": "stdout",
     "output_type": "stream",
     "text": [
      "0 Prepare Qubit R by applying H  t:0\n",
      "State:\n",
      "0.71|0000\u001b[0m\u001b[31m0\u001b[0m\u001b[34m0\u001b[0m> + 0.71|0000\u001b[0m\u001b[31m0\u001b[0m\u001b[34m1\u001b[0m>\n",
      "1 Alice observes R t:1\n",
      "State:\n",
      "0.71|0000\u001b[0m\u001b[31m0\u001b[0m\u001b[34m0\u001b[0m> + 0.71|0001\u001b[0m\u001b[31m0\u001b[0m\u001b[34m1\u001b[0m>\n",
      "2 Alice makes an inference t:2\n",
      "State:\n",
      "0.71|0000\u001b[0m\u001b[31m0\u001b[0m\u001b[34m0\u001b[0m> + 0.71|0001\u001b[0m\u001b[31m0\u001b[0m\u001b[34m1\u001b[0m>\n",
      "3 Reverse Alice reasoning t:3\n",
      "State:\n",
      "0.71|0000\u001b[0m\u001b[31m0\u001b[0m\u001b[34m0\u001b[0m> + 0.71|0000\u001b[0m\u001b[31m0\u001b[0m\u001b[34m1\u001b[0m>\n",
      "4 Bob observes Alice t:4\n",
      "State:\n",
      "0.71|0000\u001b[0m\u001b[31m0\u001b[0m\u001b[34m0\u001b[0m> + 0.71|0000\u001b[0m\u001b[31m0\u001b[0m\u001b[34m1\u001b[0m>\n"
     ]
    }
   ],
   "source": [
    "p.run(qsys)"
   ]
  },
  {
   "cell_type": "markdown",
   "metadata": {},
   "source": [
    "We measure Bob's memory,"
   ]
  },
  {
   "cell_type": "code",
   "execution_count": 53,
   "metadata": {},
   "outputs": [
    {
     "name": "stdout",
     "output_type": "stream",
     "text": [
      "Measure Bobs memory:\n",
      "0.71|0000\u001b[0m\u001b[31m0\u001b[0m\u001b[34m0\u001b[0m> + 0.71|0000\u001b[0m\u001b[31m0\u001b[0m\u001b[34m1\u001b[0m>\n",
      "b = 0\n"
     ]
    }
   ],
   "source": [
    "print('Measure Bobs memory:')\n",
    "Measure | qsys['Bob_memory']\n",
    "qsys.print_wavefunction()\n",
    "b = int(qsys.readout('Bob_memory'))\n",
    "print('b =',b)"
   ]
  },
  {
   "cell_type": "markdown",
   "metadata": {},
   "source": [
    "and compare it with Alice's prediction which she made at time $t=1$."
   ]
  },
  {
   "cell_type": "code",
   "execution_count": 57,
   "metadata": {},
   "outputs": [
    {
     "data": {
      "text/plain": [
       "In:(Alice_memory:t1)  |  Out: (Bob_memory:t4)\n",
       "----------------------------------------------------\n",
       "           0          |        [0]"
      ]
     },
     "execution_count": 57,
     "metadata": {},
     "output_type": "execute_result"
    }
   ],
   "source": [
    "TA"
   ]
  }
 ],
 "metadata": {
  "kernelspec": {
   "display_name": "Python 3",
   "language": "python",
   "name": "python3"
  },
  "language_info": {
   "codemirror_mode": {
    "name": "ipython",
    "version": 3
   },
   "file_extension": ".py",
   "mimetype": "text/x-python",
   "name": "python",
   "nbconvert_exporter": "python",
   "pygments_lexer": "ipython3",
   "version": "3.7.3"
  }
 },
 "nbformat": 4,
 "nbformat_minor": 4
}
