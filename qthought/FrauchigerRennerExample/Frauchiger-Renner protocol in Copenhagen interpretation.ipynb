{
 "cells": [
  {
   "cell_type": "markdown",
   "metadata": {},
   "source": [
    "# Frauchiger-Renner thought experiment in the Copenhagen Interpretation"
   ]
  },
  {
   "cell_type": "markdown",
   "metadata": {},
   "source": [
    "### Installation instruction"
   ]
  },
  {
   "cell_type": "markdown",
   "metadata": {},
   "source": [
    "It is recommended that you clone the qthought repository to your local machine and then run"
   ]
  },
  {
   "cell_type": "raw",
   "metadata": {},
   "source": [
    "pip install ."
   ]
  },
  {
   "cell_type": "markdown",
   "metadata": {},
   "source": [
    "in the qthought folder.\n",
    "If you did not pip install qthought, you can use the following quick-fix by uncommenting and adapting to your local file path"
   ]
  },
  {
   "cell_type": "code",
   "execution_count": null,
   "metadata": {},
   "outputs": [],
   "source": [
    "#import sys\n",
    "#import os\n",
    "# to run the example, set the following path to the folder path of qthought on your machine\n",
    "#sys.path.append(os.path.abspath('/Users/nuri/qthought/qthought'))"
   ]
  },
  {
   "cell_type": "markdown",
   "metadata": {},
   "source": [
    "### Defining the protocol"
   ]
  },
  {
   "cell_type": "markdown",
   "metadata": {},
   "source": [
    "The code below implements the Frauchiger-Renner thought experiment where agents use Copenhagen interpretation to derive their predictions. Here agents come to a contradiction (''winning condition'') with probability $\\frac{1}{12}$. Prior to reading this, it is recommended to take a look at the PDF description file Frauchiger-Renner example."
   ]
  },
  {
   "cell_type": "markdown",
   "metadata": {},
   "source": [
    "First, we import the ProjectQ operations needed for the protocol: the required single-qubit gates and the control. We also import *Protocol* and *ProtocolStep* classes to be able to define steps of the protocol; *QuantumSystem* to operate quantum systems of different dimensionality; *Agent* class and all functions from the *copenhagen_theory* module; *consistency* class to be able to chain agents' statements. Additionally, we import *InitR* function which initializes a qubit in the state $\\frac{1}{\\sqrt{3}} |0> + \\sqrt{\\frac{2}{3}} |1>$."
   ]
  },
  {
   "cell_type": "code",
   "execution_count": 1,
   "metadata": {},
   "outputs": [],
   "source": [
    "import sys\n",
    "import os\n",
    "import warnings\n",
    "warnings.filterwarnings('ignore')\n",
    "\n",
    "import numpy as np\n",
    "\n",
    "from projectq.ops import H, X, Measure, BasicGate\n",
    "from projectq.meta import Control\n",
    "\n",
    "from qthought.protocol import ProtocolStep\n",
    "from qthought.quantumsystem import QuantumSystem\n",
    "from qthought.agents import Agent\n",
    "from qthought.interpretations.copenhagen_theory import *\n",
    "from qthought.FrauchigerRennerExample.FR_protocol import InitR\n",
    "from qthought.logicalReasoning.consistency import consistency"
   ]
  },
  {
   "cell_type": "markdown",
   "metadata": {},
   "source": [
    "The first action of the protocol (at time $t=1$) is the initilization of the qubit $R$ Alice has in her lab in the state $\\frac{1}{\\sqrt{3}} |0> + \\sqrt{\\frac{2}{3}} |1>$. After defining the action, we define the step of the protocol by specifying: domain of action; written description of the action, which will be used for printouts during the run; time of the step; and which action variable being described."
   ]
  },
  {
   "cell_type": "code",
   "execution_count": 2,
   "metadata": {},
   "outputs": [],
   "source": [
    "# Step 1: Initialize r\n",
    "# ----------------------------------------------------------\n",
    "def step1_action(qsys):\n",
    "    \"\"\"Prepares the subsystem `r` of a `QuantumSystem` in the Frauchiger-Renner initial state.\"\"\"\n",
    "    InitR | qsys['r']\n",
    "\n",
    "\n",
    "step1 = ProtocolStep(domain={'Qubit': ['r']},\n",
    "                     descr='Initialize R',\n",
    "                     time=1,\n",
    "                     action=step1_action)"
   ]
  },
  {
   "cell_type": "markdown",
   "metadata": {},
   "source": [
    "At $t=2$, Alice measures $R$ and writes the result in her memory."
   ]
  },
  {
   "cell_type": "code",
   "execution_count": 3,
   "metadata": {},
   "outputs": [],
   "source": [
    "# Step 2: Alice observes r\n",
    "# ----------------------------------------------------------\n",
    "def step2_action(qsys):\n",
    "    observe(qsys['Alice_memory'], qsys['r'])\n",
    "\n",
    "\n",
    "step2 = ProtocolStep(domain={'AgentMemory(1)': ['Alice'],\n",
    "                             'Qubit': ['r']},\n",
    "                      descr='ALICE observes R',\n",
    "                      time=2,\n",
    "                      action=step2_action)"
   ]
  },
  {
   "cell_type": "markdown",
   "metadata": {},
   "source": [
    "At $t=3$, Alice makes an inference based on her outcome."
   ]
  },
  {
   "cell_type": "code",
   "execution_count": 4,
   "metadata": {},
   "outputs": [],
   "source": [
    "# Step 3: Alice makes inference\n",
    "# ----------------------------------------------------------\n",
    "def step3_action(qsys):\n",
    "    qsys['Alice'].make_inference()\n",
    "\n",
    "\n",
    "step3 = ProtocolStep(domain={'Agent(1,1)': ['Alice']},\n",
    "                     descr='Alice makes an inference',\n",
    "                     time=3,\n",
    "                     action=step3_action)"
   ]
  },
  {
   "cell_type": "markdown",
   "metadata": {},
   "source": [
    "At $t=4$, Alice prepares the qubit $S$ based on her outcome: in the state $|0>$ if she obtain $a=0$, and in the state $\\frac{1}{\\sqrt{2}} |0> + \\frac{1}{\\sqrt{2}} |1>$ if she got $a=1$. "
   ]
  },
  {
   "cell_type": "code",
   "execution_count": 5,
   "metadata": {},
   "outputs": [],
   "source": [
    "# Step 4: Alice prepares S\n",
    "# ----------------------------------------------------------\n",
    "def step4_action(qsys):\n",
    "    with Control(qsys['eng'], qsys['Alice_memory']):\n",
    "        H | qsys['s']\n",
    "\n",
    "\n",
    "step4 = ProtocolStep(domain={'Qubit': ['s'],\n",
    "                             'AgentMemory(1)': ['Alice']},\n",
    "                     descr='Apply H to S controlled on ALICE_MEMORY',\n",
    "                     time=4,\n",
    "                     action=step4_action)"
   ]
  },
  {
   "cell_type": "markdown",
   "metadata": {},
   "source": [
    "At $t=5$, Bob measures $S$ and writes the result down to his memory."
   ]
  },
  {
   "cell_type": "code",
   "execution_count": 6,
   "metadata": {},
   "outputs": [],
   "source": [
    "# Step 5: Bob measures S\n",
    "# ----------------------------------------------------------\n",
    "def step5_action(qsys):\n",
    "    observe(qsys['Bob_memory'], qsys['s'])\n",
    "\n",
    "\n",
    "step5 = ProtocolStep(domain={'Qubit': ['s'],\n",
    "                             'AgentMemory(1)': ['Bob']},\n",
    "                      descr='BOB measures S',\n",
    "                      time=5,\n",
    "                      action=step5_action)"
   ]
  },
  {
   "cell_type": "markdown",
   "metadata": {},
   "source": [
    "At $t=6$, Bob makes an inference based on his outcome."
   ]
  },
  {
   "cell_type": "code",
   "execution_count": 7,
   "metadata": {},
   "outputs": [],
   "source": [
    "# Step 6: Bob makes inference\n",
    "# ----------------------------------------------------------\n",
    "def step6_action(qsys):\n",
    "    qsys['Bob'].make_inference()\n",
    "\n",
    "\n",
    "step6 = ProtocolStep(domain={'Agent(1,1)': ['Bob']},\n",
    "                     descr='BOB makes an inference',\n",
    "                     time=6,\n",
    "                     action=step6_action)"
   ]
  },
  {
   "cell_type": "markdown",
   "metadata": {},
   "source": [
    "At $t=7$, we need to reverse Alice's reasoning process for Ursula to be able to measure in the $|ok>$, $|fail>$ basis."
   ]
  },
  {
   "cell_type": "code",
   "execution_count": 8,
   "metadata": {},
   "outputs": [],
   "source": [
    "# Step 7: Reverse inference making in Alice\n",
    "# ----------------------------------------------------------\n",
    "def step7_action(qsys):\n",
    "    qsys['Alice'].make_inference(reverse=True)\n",
    "    observe(qsys['Alice_memory'], qsys['r'], reverse=True)\n",
    "\n",
    "\n",
    "step7 = ProtocolStep(domain={'Agent(1,1)': ['Alice']},\n",
    "                      descr='Reverse Alice reasoning (Step1: in ok --> 1(R)',\n",
    "                      time=7,\n",
    "                      action=step7_action)"
   ]
  },
  {
   "cell_type": "markdown",
   "metadata": {},
   "source": [
    "Ursula measures Alice's lab in the $|ok>$, $|fail>$ basis (~ Bell basis). To do so, we first apply a Hadamard gate on $R$ at $t=8$, and then measure it in computational basis at $t=9$."
   ]
  },
  {
   "cell_type": "code",
   "execution_count": 9,
   "metadata": {},
   "outputs": [],
   "source": [
    "# Step 8: Hadamard on r\n",
    "# ----------------------------------------------------------\n",
    "def step8_action(qsys):\n",
    "    H | qsys['r']\n",
    "\n",
    "\n",
    "step8 = ProtocolStep(domain={'Qubit': ['r']},\n",
    "                     descr='Perform Hadamard on R (Step2: in ok --> 1(R)',\n",
    "                     time=8,\n",
    "                     action=step8_action)"
   ]
  },
  {
   "cell_type": "code",
   "execution_count": 10,
   "metadata": {},
   "outputs": [],
   "source": [
    "# Step 9: Ursula measures Alices lab\n",
    "# ----------------------------------------------------------\n",
    "def step9_action(qsys):\n",
    "    observe(qsys['Ursula_memory'], qsys['r'])\n",
    "\n",
    "\n",
    "step9 = ProtocolStep(domain={'Qubit': ['r'],\n",
    "                             'AgentMemory(1)': ['Ursula']},\n",
    "                      descr='URSULA measures ALICEs lab (i.e. r)',\n",
    "                      time=9,\n",
    "                      action=step9_action)"
   ]
  },
  {
   "cell_type": "markdown",
   "metadata": {},
   "source": [
    "Ursula reasons based on her outcome at $t=10$, and announces it at $t=11$."
   ]
  },
  {
   "cell_type": "code",
   "execution_count": 11,
   "metadata": {},
   "outputs": [],
   "source": [
    "# Step 10: Ursula makes an inference\n",
    "# ----------------------------------------------------------\n",
    "def step10_action(qsys):\n",
    "    qsys['Ursula'].make_inference()\n",
    "\n",
    "\n",
    "step10 = ProtocolStep(domain={'Agent(1,1)': ['Ursula']},\n",
    "                      descr='URSULA makes inference',\n",
    "                      time=10,\n",
    "                      action=step10_action)"
   ]
  },
  {
   "cell_type": "code",
   "execution_count": 12,
   "metadata": {},
   "outputs": [],
   "source": [
    "# Step 11: Ursula announces her prediction\n",
    "# ----------------------------------------------------------\n",
    "def step11_action(qsys):\n",
    "    Measure | qsys['Ursula_prediction']\n",
    "    print('!Measurement made on Ursula_prediction!')\n",
    "    print('Ursula prediction:', readout([qsys['Ursula_prediction']]))\n",
    "\n",
    "\n",
    "step11 = ProtocolStep(domain={'Agent(1,1)': ['Ursula']},\n",
    "                      descr='URSULA announces her prediction',\n",
    "                      time=11,\n",
    "                      action=step11_action)"
   ]
  },
  {
   "cell_type": "markdown",
   "metadata": {},
   "source": [
    "Now we repeat the same procedure for Wigner measuring Bob's lab. First, we reverse Bob's reasoning process at $t=12$."
   ]
  },
  {
   "cell_type": "code",
   "execution_count": 13,
   "metadata": {},
   "outputs": [],
   "source": [
    "# Step 12: Reverse Bob's reasoning\n",
    "# ----------------------------------------------------------\n",
    "def step12_action(qsys):\n",
    "    qsys['Bob'].make_inference(reverse=True)\n",
    "    # qsys['Bob'].observe(qsys['s'], reverse=True)\n",
    "    observe(qsys['Bob_memory'], qsys['s'], reverse=True)\n",
    "\n",
    "\n",
    "step12 = ProtocolStep(domain={'Agent(1,1)': ['Bob']},\n",
    "                       descr='Reverse BOBs inference procedure',\n",
    "                       time=12,\n",
    "                       action=step12_action)"
   ]
  },
  {
   "cell_type": "markdown",
   "metadata": {},
   "source": [
    "Wigner measures Bob's lab in the $|ok>$, $|fail>$ basis (~ Bell basis). To do so, we first apply a Hadamard gate on $S$ at $t=13$, measure it in computational basis at $t=14$, and subsequently check if Wigner gets outcome \"ok\"."
   ]
  },
  {
   "cell_type": "code",
   "execution_count": 14,
   "metadata": {},
   "outputs": [],
   "source": [
    "# Step 13: Apply Hadamard on s\n",
    "# ----------------------------------------------------------\n",
    "def step13_action(qsys):\n",
    "    H | qsys['s']\n",
    "\n",
    "\n",
    "step13 = ProtocolStep(domain={'Qubit': ['s']},\n",
    "                      descr='Apply Hadamard on S, i.e. transform system S+BOB:  ok --> 1(s) ',\n",
    "                      time=13,\n",
    "                      action=step13_action)"
   ]
  },
  {
   "cell_type": "code",
   "execution_count": 15,
   "metadata": {},
   "outputs": [],
   "source": [
    "# Step 14: Check if Bob is in ok state\n",
    "# ----------------------------------------------------------\n",
    "def step14_action(qsys):\n",
    "    Measure | qsys['s']\n",
    "    print('!Measurement made on s!')\n",
    "    print('s-state:', readout([qsys['s']]))\n",
    "\n",
    "\n",
    "step14 = ProtocolStep(domain={'Agent(1,1)': ['Bob']},\n",
    "                      descr='Check if Bob+s is in ok state (corresponding to s: 1)',\n",
    "                      time=14,\n",
    "                      action=step14_action)"
   ]
  },
  {
   "cell_type": "markdown",
   "metadata": {},
   "source": [
    "### Building up inference tables "
   ]
  },
  {
   "cell_type": "markdown",
   "metadata": {},
   "source": [
    "Now we construct the inference tables according to which the inference qubits of different agents are initialized. First, we consider the inference table of Alice: she has to reason about Wigner's outcome, and for that we need to include the steps of what is happening in the Bob's lab ($t=5,6$), and Wigner's actions ($t=12,13$)."
   ]
  },
  {
   "cell_type": "code",
   "execution_count": 16,
   "metadata": {},
   "outputs": [
    {
     "data": {
      "text/plain": [
       "Step 0: Initialize R(t:1)\n",
       "Step 1: ALICE observes R(t:2)\n",
       "Step 2: ALICE makes an inference(t:3)\n",
       "Step 3: Apply H to S controlled on ALICE_MEMORY(t:4)\n",
       "Step 4: BOB measures S(t:5)\n",
       "Step 5: BOB makes an inference(t:6)\n",
       "Step 6: Reverse BOBs inference procedure(t:12)\n",
       "Step 7: Apply Hadamard on S, i.e. transform system S+BOB:  ok --> 1(s) (t:13)\n",
       "\n",
       "Requirements: \n",
       "------------------------------\n",
       "Qubit             ['r', 's']\n",
       "Agent(1,1)        ['Bob', 'Alice']"
      ]
     },
     "execution_count": 16,
     "metadata": {},
     "output_type": "execute_result"
    }
   ],
   "source": [
    "p_TA_steps = [step1, step2, step3, step4, step5, step6,\n",
    "         step12, step13]\n",
    "p_TA = sum(p_TA_steps)\n",
    "p_TA"
   ]
  },
  {
   "cell_type": "markdown",
   "metadata": {},
   "source": [
    "Alice makes a forward inference about a measurement outcome later in the experiment, and get one determenistic conclusion $a=1 \\Rightarrow w=fail$ ($w=fail$ here is equivalent to having measured $s=0$ at $t=13$)."
   ]
  },
  {
   "cell_type": "code",
   "execution_count": 17,
   "metadata": {},
   "outputs": [
    {
     "name": "stdout",
     "output_type": "stream",
     "text": [
      "(Note: This is the (slow) Python simulator.)\n"
     ]
    },
    {
     "data": {
      "text/plain": [
       "In:(Alice_memory:t2)  |  Out: (s:t13)\n",
       "--------------------------------------------\n",
       "           0          |        [0, 1]\n",
       "           1          |        [0]"
      ]
     },
     "execution_count": 17,
     "metadata": {},
     "output_type": "execute_result"
    }
   ],
   "source": [
    "TA = forward_inference(p_TA, \n",
    "                       subsys_x='Alice_memory', t_x=2, \n",
    "                       subsys_y='s', t_y=13, \n",
    "                       silent=True)\n",
    "TA"
   ]
  },
  {
   "cell_type": "markdown",
   "metadata": {},
   "source": [
    "Now Bob reasons about Alice, making a backward inference about a measurement outcome earlier in the experiment."
   ]
  },
  {
   "cell_type": "code",
   "execution_count": 18,
   "metadata": {},
   "outputs": [
    {
     "data": {
      "text/plain": [
       "Step 0: Initialize R(t:1)\n",
       "Step 1: ALICE observes R(t:2)\n",
       "Step 2: Apply H to S controlled on ALICE_MEMORY(t:4)\n",
       "Step 3: BOB measures S(t:5)\n",
       "\n",
       "Requirements: \n",
       "------------------------------\n",
       "Qubit             ['r', 's']\n",
       "AgentMemory(1)    ['Bob', 'Alice']"
      ]
     },
     "execution_count": 18,
     "metadata": {},
     "output_type": "execute_result"
    }
   ],
   "source": [
    "p_TB_steps = [step1, step2, step4, step5]\n",
    "p_TB = sum(p_TB_steps)\n",
    "p_TB"
   ]
  },
  {
   "cell_type": "code",
   "execution_count": 19,
   "metadata": {
    "scrolled": true
   },
   "outputs": [
    {
     "name": "stdout",
     "output_type": "stream",
     "text": [
      "(Note: This is the (slow) Python simulator.)\n",
      "Require Qubit r\n",
      "Require Qubit s\n",
      "Require AgentMemory(1) Bob\n",
      "Require AgentMemory(1) Alice\n",
      "----- Case 0 -----\n",
      "0 Initialize R t:1\n",
      "State:\n",
      "0.58|0\u001b[0m\u001b[31m0\u001b[0m\u001b[34m0\u001b[0m\u001b[32m0\u001b[0m> + 0.82|0\u001b[0m\u001b[31m0\u001b[0m\u001b[34m0\u001b[0m\u001b[32m1\u001b[0m>\n",
      "1 ALICE observes R t:2\n",
      "State:\n",
      "0.58|0\u001b[0m\u001b[31m0\u001b[0m\u001b[34m0\u001b[0m\u001b[32m0\u001b[0m> + 0.82|1\u001b[0m\u001b[31m0\u001b[0m\u001b[34m0\u001b[0m\u001b[32m1\u001b[0m>\n",
      "Projecting to subspace Alice_memory=0\n",
      "1.0|0\u001b[0m\u001b[31m0\u001b[0m\u001b[34m0\u001b[0m\u001b[32m0\u001b[0m>\n",
      "2 Apply H to S controlled on ALICE_MEMORY t:4\n",
      "State:\n",
      "1.0|0\u001b[0m\u001b[31m0\u001b[0m\u001b[34m0\u001b[0m\u001b[32m0\u001b[0m>\n",
      "3 BOB measures S t:5\n",
      "State:\n",
      "1.0|0\u001b[0m\u001b[31m0\u001b[0m\u001b[34m0\u001b[0m\u001b[32m0\u001b[0m>\n",
      "Quantum system reset to: 0000\n",
      "----- Case 1 -----\n",
      "0 Initialize R t:1\n",
      "State:\n",
      "0.58|0\u001b[0m\u001b[31m0\u001b[0m\u001b[34m0\u001b[0m\u001b[32m0\u001b[0m> + 0.82|0\u001b[0m\u001b[31m0\u001b[0m\u001b[34m0\u001b[0m\u001b[32m1\u001b[0m>\n",
      "1 ALICE observes R t:2\n",
      "State:\n",
      "0.58|0\u001b[0m\u001b[31m0\u001b[0m\u001b[34m0\u001b[0m\u001b[32m0\u001b[0m> + 0.82|1\u001b[0m\u001b[31m0\u001b[0m\u001b[34m0\u001b[0m\u001b[32m1\u001b[0m>\n",
      "Projecting to subspace Alice_memory=1\n",
      "1.0|1\u001b[0m\u001b[31m0\u001b[0m\u001b[34m0\u001b[0m\u001b[32m1\u001b[0m>\n",
      "2 Apply H to S controlled on ALICE_MEMORY t:4\n",
      "State:\n",
      "0.71|1\u001b[0m\u001b[31m0\u001b[0m\u001b[34m0\u001b[0m\u001b[32m1\u001b[0m> + 0.71|1\u001b[0m\u001b[31m0\u001b[0m\u001b[34m1\u001b[0m\u001b[32m1\u001b[0m>\n",
      "3 BOB measures S t:5\n",
      "State:\n",
      "0.71|1\u001b[0m\u001b[31m0\u001b[0m\u001b[34m0\u001b[0m\u001b[32m1\u001b[0m> + 0.71|1\u001b[0m\u001b[31m1\u001b[0m\u001b[34m1\u001b[0m\u001b[32m1\u001b[0m>\n",
      "Quantum system reset to: 0000\n"
     ]
    },
    {
     "data": {
      "text/plain": [
       "In:(Bob_memory:t5)    |  Out: (Alice_memory:t2)\n",
       "------------------------------------------------------\n",
       "           0          |        [0, 1]\n",
       "           1          |        [1]"
      ]
     },
     "execution_count": 19,
     "metadata": {},
     "output_type": "execute_result"
    }
   ],
   "source": [
    "TB = backward_inference(p_TB, \n",
    "                        subsys_x='Alice_memory', t_x=2, \n",
    "                        subsys_y='Bob_memory', t_y=5, \n",
    "                        silent=False)\n",
    "TB"
   ]
  },
  {
   "cell_type": "markdown",
   "metadata": {},
   "source": [
    "Ursula reasons about Bob, using backward inference as well."
   ]
  },
  {
   "cell_type": "code",
   "execution_count": 20,
   "metadata": {
    "scrolled": true
   },
   "outputs": [
    {
     "data": {
      "text/plain": [
       "Step 0: Initialize R(t:1)\n",
       "Step 1: ALICE observes R(t:2)\n",
       "Step 2: ALICE makes an inference(t:3)\n",
       "Step 3: Apply H to S controlled on ALICE_MEMORY(t:4)\n",
       "Step 4: BOB measures S(t:5)\n",
       "Step 5: BOB makes an inference(t:6)\n",
       "Step 6: Reverse Alice reasoning (Step1: in ok --> 1(R)(t:7)\n",
       "Step 7: Perform Hadamard on R (Step2: in ok --> 1(R)(t:8)\n",
       "Step 8: URSULA measures ALICEs lab (i.e. r)(t:9)\n",
       "\n",
       "Requirements: \n",
       "------------------------------\n",
       "Qubit             ['r', 's']\n",
       "AgentMemory(1)    ['Ursula']\n",
       "Agent(1,1)        ['Bob', 'Alice']"
      ]
     },
     "execution_count": 20,
     "metadata": {},
     "output_type": "execute_result"
    }
   ],
   "source": [
    "p_TU_steps = [step1, step2, step3, step4, step5,\n",
    "              step6, step7, step8 ,step9]\n",
    "p_TU = sum(p_TU_steps)\n",
    "p_TU"
   ]
  },
  {
   "cell_type": "code",
   "execution_count": 21,
   "metadata": {},
   "outputs": [
    {
     "name": "stdout",
     "output_type": "stream",
     "text": [
      "(Note: This is the (slow) Python simulator.)\n",
      "Require Qubit r\n",
      "Require Qubit s\n",
      "Require AgentMemory(1) Ursula\n",
      "Require Agent(1,1) Bob\n",
      "Require Agent(1,1) Alice\n",
      "----- Case 0 -----\n",
      "0 Initialize R t:1\n",
      "State:\n",
      "0.58|0000\u001b[0m\u001b[31m0000\u001b[0m\u001b[34m0\u001b[0m\u001b[32m0\u001b[0m\u001b[35m0\u001b[0m> + 0.82|0000\u001b[0m\u001b[31m0000\u001b[0m\u001b[34m0\u001b[0m\u001b[32m0\u001b[0m\u001b[35m1\u001b[0m>\n",
      "1 ALICE observes R t:2\n",
      "State:\n",
      "0.58|0000\u001b[0m\u001b[31m0000\u001b[0m\u001b[34m0\u001b[0m\u001b[32m0\u001b[0m\u001b[35m0\u001b[0m> + 0.82|0001\u001b[0m\u001b[31m0000\u001b[0m\u001b[34m0\u001b[0m\u001b[32m0\u001b[0m\u001b[35m1\u001b[0m>\n",
      "2 ALICE makes an inference t:3\n",
      "State:\n",
      "0.58|0000\u001b[0m\u001b[31m0000\u001b[0m\u001b[34m0\u001b[0m\u001b[32m0\u001b[0m\u001b[35m0\u001b[0m> + 0.82|0001\u001b[0m\u001b[31m0000\u001b[0m\u001b[34m0\u001b[0m\u001b[32m0\u001b[0m\u001b[35m1\u001b[0m>\n",
      "3 Apply H to S controlled on ALICE_MEMORY t:4\n",
      "State:\n",
      "0.58|0000\u001b[0m\u001b[31m0000\u001b[0m\u001b[34m0\u001b[0m\u001b[32m0\u001b[0m\u001b[35m0\u001b[0m> + 0.58|0001\u001b[0m\u001b[31m0000\u001b[0m\u001b[34m0\u001b[0m\u001b[32m0\u001b[0m\u001b[35m1\u001b[0m> + 0.58|0001\u001b[0m\u001b[31m0000\u001b[0m\u001b[34m0\u001b[0m\u001b[32m1\u001b[0m\u001b[35m1\u001b[0m>\n",
      "4 BOB measures S t:5\n",
      "State:\n",
      "0.58|0000\u001b[0m\u001b[31m0000\u001b[0m\u001b[34m0\u001b[0m\u001b[32m0\u001b[0m\u001b[35m0\u001b[0m> + 0.58|0001\u001b[0m\u001b[31m0000\u001b[0m\u001b[34m0\u001b[0m\u001b[32m0\u001b[0m\u001b[35m1\u001b[0m> + 0.58|0001\u001b[0m\u001b[31m0001\u001b[0m\u001b[34m0\u001b[0m\u001b[32m1\u001b[0m\u001b[35m1\u001b[0m>\n",
      "Projecting to subspace Bob_memory=0\n",
      "0.71|0000\u001b[0m\u001b[31m0000\u001b[0m\u001b[34m0\u001b[0m\u001b[32m0\u001b[0m\u001b[35m0\u001b[0m> + 0.71|0001\u001b[0m\u001b[31m0000\u001b[0m\u001b[34m0\u001b[0m\u001b[32m0\u001b[0m\u001b[35m1\u001b[0m>\n",
      "5 BOB makes an inference t:6\n",
      "State:\n",
      "0.71|0000\u001b[0m\u001b[31m0000\u001b[0m\u001b[34m0\u001b[0m\u001b[32m0\u001b[0m\u001b[35m0\u001b[0m> + 0.71|0001\u001b[0m\u001b[31m0000\u001b[0m\u001b[34m0\u001b[0m\u001b[32m0\u001b[0m\u001b[35m1\u001b[0m>\n",
      "6 Reverse Alice reasoning (Step1: in ok --> 1(R) t:7\n",
      "State:\n",
      "0.71|0000\u001b[0m\u001b[31m0000\u001b[0m\u001b[34m0\u001b[0m\u001b[32m0\u001b[0m\u001b[35m0\u001b[0m> + 0.71|0000\u001b[0m\u001b[31m0000\u001b[0m\u001b[34m0\u001b[0m\u001b[32m0\u001b[0m\u001b[35m1\u001b[0m>\n",
      "7 Perform Hadamard on R (Step2: in ok --> 1(R) t:8\n",
      "State:\n",
      "1.0|0000\u001b[0m\u001b[31m0000\u001b[0m\u001b[34m0\u001b[0m\u001b[32m0\u001b[0m\u001b[35m0\u001b[0m>\n",
      "8 URSULA measures ALICEs lab (i.e. r) t:9\n",
      "State:\n",
      "1.0|0000\u001b[0m\u001b[31m0000\u001b[0m\u001b[34m0\u001b[0m\u001b[32m0\u001b[0m\u001b[35m0\u001b[0m>\n",
      "Quantum system reset to: 00000000000\n",
      "----- Case 1 -----\n",
      "0 Initialize R t:1\n",
      "State:\n",
      "0.58|0000\u001b[0m\u001b[31m0000\u001b[0m\u001b[34m0\u001b[0m\u001b[32m0\u001b[0m\u001b[35m0\u001b[0m> + 0.82|0000\u001b[0m\u001b[31m0000\u001b[0m\u001b[34m0\u001b[0m\u001b[32m0\u001b[0m\u001b[35m1\u001b[0m>\n",
      "1 ALICE observes R t:2\n",
      "State:\n",
      "0.58|0000\u001b[0m\u001b[31m0000\u001b[0m\u001b[34m0\u001b[0m\u001b[32m0\u001b[0m\u001b[35m0\u001b[0m> + 0.82|0001\u001b[0m\u001b[31m0000\u001b[0m\u001b[34m0\u001b[0m\u001b[32m0\u001b[0m\u001b[35m1\u001b[0m>\n",
      "2 ALICE makes an inference t:3\n",
      "State:\n",
      "0.58|0000\u001b[0m\u001b[31m0000\u001b[0m\u001b[34m0\u001b[0m\u001b[32m0\u001b[0m\u001b[35m0\u001b[0m> + 0.82|0001\u001b[0m\u001b[31m0000\u001b[0m\u001b[34m0\u001b[0m\u001b[32m0\u001b[0m\u001b[35m1\u001b[0m>\n",
      "3 Apply H to S controlled on ALICE_MEMORY t:4\n",
      "State:\n",
      "0.58|0000\u001b[0m\u001b[31m0000\u001b[0m\u001b[34m0\u001b[0m\u001b[32m0\u001b[0m\u001b[35m0\u001b[0m> + 0.58|0001\u001b[0m\u001b[31m0000\u001b[0m\u001b[34m0\u001b[0m\u001b[32m0\u001b[0m\u001b[35m1\u001b[0m> + 0.58|0001\u001b[0m\u001b[31m0000\u001b[0m\u001b[34m0\u001b[0m\u001b[32m1\u001b[0m\u001b[35m1\u001b[0m>\n",
      "4 BOB measures S t:5\n",
      "State:\n",
      "0.58|0000\u001b[0m\u001b[31m0000\u001b[0m\u001b[34m0\u001b[0m\u001b[32m0\u001b[0m\u001b[35m0\u001b[0m> + 0.58|0001\u001b[0m\u001b[31m0000\u001b[0m\u001b[34m0\u001b[0m\u001b[32m0\u001b[0m\u001b[35m1\u001b[0m> + 0.58|0001\u001b[0m\u001b[31m0001\u001b[0m\u001b[34m0\u001b[0m\u001b[32m1\u001b[0m\u001b[35m1\u001b[0m>\n",
      "Projecting to subspace Bob_memory=1\n",
      "1.0|0001\u001b[0m\u001b[31m0001\u001b[0m\u001b[34m0\u001b[0m\u001b[32m1\u001b[0m\u001b[35m1\u001b[0m>\n",
      "5 BOB makes an inference t:6\n",
      "State:\n",
      "1.0|0001\u001b[0m\u001b[31m0001\u001b[0m\u001b[34m0\u001b[0m\u001b[32m1\u001b[0m\u001b[35m1\u001b[0m>\n",
      "6 Reverse Alice reasoning (Step1: in ok --> 1(R) t:7\n",
      "State:\n",
      "1.0|0000\u001b[0m\u001b[31m0001\u001b[0m\u001b[34m0\u001b[0m\u001b[32m1\u001b[0m\u001b[35m1\u001b[0m>\n",
      "7 Perform Hadamard on R (Step2: in ok --> 1(R) t:8\n",
      "State:\n",
      "0.71|0000\u001b[0m\u001b[31m0001\u001b[0m\u001b[34m0\u001b[0m\u001b[32m1\u001b[0m\u001b[35m0\u001b[0m> + -0.71|0000\u001b[0m\u001b[31m0001\u001b[0m\u001b[34m0\u001b[0m\u001b[32m1\u001b[0m\u001b[35m1\u001b[0m>\n",
      "8 URSULA measures ALICEs lab (i.e. r) t:9\n",
      "State:\n",
      "0.71|0000\u001b[0m\u001b[31m0001\u001b[0m\u001b[34m0\u001b[0m\u001b[32m1\u001b[0m\u001b[35m0\u001b[0m> + -0.71|0000\u001b[0m\u001b[31m0001\u001b[0m\u001b[34m1\u001b[0m\u001b[32m1\u001b[0m\u001b[35m1\u001b[0m>\n",
      "Quantum system reset to: 00000000000\n"
     ]
    },
    {
     "data": {
      "text/plain": [
       "In:(Ursula_memory:t9) |  Out: (Bob_memory:t5)\n",
       "----------------------------------------------------\n",
       "           0          |        [0, 1]\n",
       "           1          |        [1]"
      ]
     },
     "execution_count": 21,
     "metadata": {},
     "output_type": "execute_result"
    }
   ],
   "source": [
    "TU = backward_inference(p_TU, \n",
    "                        subsys_x='Bob_memory', t_x=5, \n",
    "                        subsys_y='Ursula_memory', t_y=9, \n",
    "                        silent=False)\n",
    "TU"
   ]
  },
  {
   "cell_type": "markdown",
   "metadata": {},
   "source": [
    "### Combining the inference tables with consistency"
   ]
  },
  {
   "cell_type": "markdown",
   "metadata": {},
   "source": [
    "Now the consistency rules come to play. They tell us how to combine the obtained inference tables -- in this case we don't have any special restrictions, as we use the classical modal logic where we are always free to conclude $A \\Rightarrow C$ from knowing $A \\Rightarrow B$ and $B \\Rightarrow C$, regardless of which agent has produced the statement."
   ]
  },
  {
   "cell_type": "code",
   "execution_count": 22,
   "metadata": {},
   "outputs": [
    {
     "name": "stdout",
     "output_type": "stream",
     "text": [
      "In:(Alice_memory:t2)  |  Out: (s:t13)\n",
      "--------------------------------------------\n",
      "           0          |        [0, 1]\n",
      "           1          |        [0]\n",
      "In:(Bob_memory:t5)    |  Out: (s:t13)\n",
      "--------------------------------------------\n",
      "           0          |        [0, 1]\n",
      "           1          |        [0]\n",
      "In:(Ursula_memory:t9) |  Out: (s:t13)\n",
      "--------------------------------------------\n",
      "           0          |        [0, 1]\n",
      "           1          |        [0]\n"
     ]
    }
   ],
   "source": [
    "from qthought.logicalReasoning.consistency import consistency\n",
    "\n",
    "TA_final = TA\n",
    "TB_final = consistency(TB, TA)\n",
    "TU_final = consistency(TU, TB_final)\n",
    "\n",
    "print(TA_final)\n",
    "print(TB_final)\n",
    "print(TU_final)"
   ]
  },
  {
   "cell_type": "markdown",
   "metadata": {},
   "source": [
    "### Running the full protocol"
   ]
  },
  {
   "cell_type": "markdown",
   "metadata": {},
   "source": [
    "Now we are ready to run the full protocol, and see if the \"winning condition\" (getting the inconsistency) is satisfied. You might need to run it several times as getting the inconsistency is probabilistic (we need to wait until getting to the round in which Ursula and Wigner both measure \"ok\")."
   ]
  },
  {
   "cell_type": "code",
   "execution_count": 23,
   "metadata": {},
   "outputs": [
    {
     "data": {
      "text/plain": [
       "Step 0: Initialize R(t:1)\n",
       "Step 1: ALICE observes R(t:2)\n",
       "Step 2: ALICE makes an inference(t:3)\n",
       "Step 3: Apply H to S controlled on ALICE_MEMORY(t:4)\n",
       "Step 4: BOB measures S(t:5)\n",
       "Step 5: BOB makes an inference(t:6)\n",
       "Step 6: Reverse Alice reasoning (Step1: in ok --> 1(R)(t:7)\n",
       "Step 7: Perform Hadamard on R (Step2: in ok --> 1(R)(t:8)\n",
       "Step 8: URSULA measures ALICEs lab (i.e. r)(t:9)\n",
       "Step 9: URSULA makes inference(t:10)\n",
       "Step 10: Reverse BOBs inference procedure(t:12)\n",
       "Step 11: Apply Hadamard on S, i.e. transform system S+BOB:  ok --> 1(s) (t:13)\n",
       "\n",
       "Requirements: \n",
       "------------------------------\n",
       "Qubit             ['r', 's']\n",
       "Agent(1,1)        ['Bob', 'Alice', 'Ursula']"
      ]
     },
     "execution_count": 23,
     "metadata": {},
     "output_type": "execute_result"
    }
   ],
   "source": [
    "steps = [step1, step2, step3, step4, step5,\n",
    "         step6, step7, step8, step9, step10,\n",
    "         step12, step13]\n",
    "p = sum(steps)\n",
    "p"
   ]
  },
  {
   "cell_type": "code",
   "execution_count": 25,
   "metadata": {},
   "outputs": [
    {
     "name": "stdout",
     "output_type": "stream",
     "text": [
      "----------------------------------------------------------------------\n",
      "Requiring quantum system:\n",
      "(Note: This is the (slow) Python simulator.)\n",
      "Require Qubit r\n",
      "Require Qubit s\n",
      "Require Agent(1,1) Bob\n",
      "Require Agent(1,1) Alice\n",
      "Require Agent(1,1) Ursula\n",
      "1.0|0000\u001b[0m\u001b[31m0000\u001b[0m\u001b[34m0000\u001b[0m\u001b[32m0\u001b[0m\u001b[35m0\u001b[0m>\n",
      "----------------------------------------------------------------------\n",
      "Initialize inference system\n",
      "1.0|0100\u001b[0m\u001b[31m0100\u001b[0m\u001b[34m0100\u001b[0m\u001b[32m0\u001b[0m\u001b[35m0\u001b[0m>\n",
      "----------------------------------------------------------------------\n",
      "Run protocol:\n",
      "----------------------------------------------------------------------\n",
      "Final Wavefunction before measurements:\n",
      "-0.29|0101\u001b[0m\u001b[31m0100\u001b[0m\u001b[34m0100\u001b[0m\u001b[32m0\u001b[0m\u001b[35m1\u001b[0m> + 0.29|0101\u001b[0m\u001b[31m0100\u001b[0m\u001b[34m0100\u001b[0m\u001b[32m1\u001b[0m\u001b[35m1\u001b[0m> + 0.87|0110\u001b[0m\u001b[31m0100\u001b[0m\u001b[34m0100\u001b[0m\u001b[32m0\u001b[0m\u001b[35m0\u001b[0m> + 0.29|0110\u001b[0m\u001b[31m0100\u001b[0m\u001b[34m0100\u001b[0m\u001b[32m1\u001b[0m\u001b[35m0\u001b[0m>\n",
      "----------------------------------------------------------------------\n",
      "Perform final measurements:\n",
      "Measure Ursulas meomry:\n",
      "-0.71|0101\u001b[0m\u001b[31m0100\u001b[0m\u001b[34m0100\u001b[0m\u001b[32m0\u001b[0m\u001b[35m1\u001b[0m> + 0.71|0101\u001b[0m\u001b[31m0100\u001b[0m\u001b[34m0100\u001b[0m\u001b[32m1\u001b[0m\u001b[35m1\u001b[0m>\n",
      "Measure Ursulas prediction:\n",
      "-0.71|0101\u001b[0m\u001b[31m0100\u001b[0m\u001b[34m0100\u001b[0m\u001b[32m0\u001b[0m\u001b[35m1\u001b[0m> + 0.71|0101\u001b[0m\u001b[31m0100\u001b[0m\u001b[34m0100\u001b[0m\u001b[32m1\u001b[0m\u001b[35m1\u001b[0m>\n",
      "Measure s:\n",
      "1.0|0101\u001b[0m\u001b[31m0100\u001b[0m\u001b[34m0100\u001b[0m\u001b[32m1\u001b[0m\u001b[35m1\u001b[0m>\n",
      "['Ursula', 'Alice', 'Bob', 's', 'r']\n",
      "----------------------------------------------------------------------\n",
      "Analysis of winning condition:\n",
      "Ursula observes ok_bar\n",
      "Ursula predicts fail\n",
      "Wigner observes ok\n",
      "XXXXX Winning condition satisfied XXXXXX\n"
     ]
    }
   ],
   "source": [
    "print('-'*70)\n",
    "print('Requiring quantum system:')\n",
    "qsys = QuantumSystem(p.get_requirements())\n",
    "no_prediction_state = 1\n",
    "qsys.print_wavefunction()\n",
    "\n",
    "print('-'*70)\n",
    "print('Initialize inference system')\n",
    "qsys['Alice'].set_inference_table(TA_final, no_prediction_state)\n",
    "qsys['Bob'].set_inference_table(TB_final, no_prediction_state)\n",
    "qsys['Ursula'].set_inference_table(TU_final, no_prediction_state)\n",
    "\n",
    "qsys['Alice'].prep_inference()\n",
    "qsys['Bob'].prep_inference()\n",
    "qsys['Ursula'].prep_inference()\n",
    "qsys.print_wavefunction()\n",
    "\n",
    "print('-'*70)\n",
    "print('Run protocol:')\n",
    "p.run(qsys, silent=True)\n",
    "\n",
    "print('-'*70)\n",
    "print('Final Wavefunction before measurements:')\n",
    "qsys.print_wavefunction()\n",
    "\n",
    "print('-'*70)\n",
    "print('Perform final measurements:')\n",
    "\n",
    "print('Measure Ursulas meomry:')\n",
    "Measure | qsys['Ursula_memory']\n",
    "qsys.print_wavefunction()\n",
    "ok_bar = bool(int(qsys.readout('Ursula_memory')))\n",
    "#print('ok_bar=',ok_bar)\n",
    "\n",
    "print('Measure Ursulas prediction:')\n",
    "Measure | qsys['Ursula_prediction']\n",
    "qsys.print_wavefunction()\n",
    "#print(readout(qsys['Ursula_prediction']))\n",
    "U_predicts_fail = bool(1 - int(qsys.readout('Ursula_prediction')))\n",
    "#print('U_predicts_fail=',U_predicts_fail)\n",
    "\n",
    "print('Measure s:')\n",
    "Measure | qsys['s']\n",
    "qsys.print_wavefunction()\n",
    "ok = bool(int(qsys.readout('s')))\n",
    "#print('ok=',ok)\n",
    "\n",
    "print(qsys.subsystems[::-1])\n",
    "del qsys\n",
    "\n",
    "print('-'*70)\n",
    "print('Analysis of winning condition:')\n",
    "if ok_bar:\n",
    "    print('Ursula observes ok_bar')\n",
    "else:\n",
    "    print('Ursula observes fail_bar' )\n",
    "\n",
    "\n",
    "if U_predicts_fail:\n",
    "    print('Ursula predicts fail')\n",
    "else:\n",
    "    print('Ursula does not know Alices prediction' )\n",
    "    \n",
    "if ok:\n",
    "    print('Wigner observes ok')\n",
    "else:\n",
    "    print('Wigner observes fail' ) \n",
    "    \n",
    "if ok and ok_bar:\n",
    "    print('XXXXX Winning condition satisfied XXXXXX')"
   ]
  }
 ],
 "metadata": {
  "kernelspec": {
   "display_name": "Python 3",
   "language": "python",
   "name": "python3"
  },
  "language_info": {
   "codemirror_mode": {
    "name": "ipython",
    "version": 3
   },
   "file_extension": ".py",
   "mimetype": "text/x-python",
   "name": "python",
   "nbconvert_exporter": "python",
   "pygments_lexer": "ipython3",
   "version": "3.7.3"
  }
 },
 "nbformat": 4,
 "nbformat_minor": 2
}
