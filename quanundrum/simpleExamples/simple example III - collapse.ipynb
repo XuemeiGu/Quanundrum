{
 "cells": [
  {
   "cell_type": "markdown",
   "metadata": {},
   "source": [
    "# A simple example III - collapse theory"
   ]
  },
  {
   "cell_type": "markdown",
   "metadata": {},
   "source": [
    "### Installation instruction"
   ]
  },
  {
   "cell_type": "markdown",
   "metadata": {},
   "source": [
    "It is recommended that you clone the qthought repository to your local machine and then run"
   ]
  },
  {
   "cell_type": "raw",
   "metadata": {},
   "source": [
    "pip install ."
   ]
  },
  {
   "cell_type": "markdown",
   "metadata": {},
   "source": [
    "in the qthought folder. If you did not pip install qthought, you can use the following quick-fix by uncommenting and adapting to your local file path"
   ]
  },
  {
   "cell_type": "code",
   "execution_count": null,
   "metadata": {},
   "outputs": [],
   "source": [
    "# import sys\n",
    "# import os\n",
    "# to run the example, set the following path to the folder path of qthought on your machine\n",
    "# sys.path.append(os.path.abspath('/Users/nuri/qthought/qthought')) "
   ]
  },
  {
   "cell_type": "markdown",
   "metadata": {},
   "source": [
    "### Start of the example"
   ]
  },
  {
   "cell_type": "markdown",
   "metadata": {},
   "source": [
    "This is a detailed explanation of how to write a simple protocol for two parties thought experiment. Prior to reading this, it is recommended to take a look at the PDF description file *simple_examples*."
   ]
  },
  {
   "cell_type": "markdown",
   "metadata": {},
   "source": [
    "First, we import the ProjectQ operations needed for the protocol. To initialize the state of the qubit Alice and Bob measure sequentially, we need the Hadamard gate.\n",
    "We also import *Protocol* and *ProtocolStep* classes to be able to define steps of the protocol; *QuantumSystem* to operate quantum systems of different dimensionality; *Agent* class and all functions from the *collapse_theory* module.\n",
    "We don't import *consistency* rules here, as in this example agents don't have to look at each other's viewpoints and glue them together. For an example where they do, please refer to the Frauchiger-Renner thought experiment protocol."
   ]
  },
  {
   "cell_type": "code",
   "execution_count": 11,
   "metadata": {
    "scrolled": true
   },
   "outputs": [],
   "source": [
    "import qthought.utils as ut\n",
    "from qthought.protocol import Protocol, ProtocolStep\n",
    "from qthought.quantumsystem import QuantumSystem\n",
    "from qthought.agents import Agent\n",
    "from qthought.interpretations.collapse_theory import *\n",
    "from projectq.ops import H, Measure, CNOT"
   ]
  },
  {
   "cell_type": "markdown",
   "metadata": {},
   "source": [
    "The first action of the protocol (at time $t=0$) is the initilization of a qubit *s* in a $\\frac{1}{\\sqrt{2}} (|0> + |1>)$ state. After defining the action, we define the step of the protocol by specifying: domain of action; written description of the action, which will be used for printouts during the run; time of the step; and which action variable being described."
   ]
  },
  {
   "cell_type": "code",
   "execution_count": 3,
   "metadata": {},
   "outputs": [],
   "source": [
    "# Step 1: The qubit R is prepared\n",
    "# ----------------------------------------------------------\n",
    "@enable_branching()\n",
    "def action1(qsys:QuantumSystem):\n",
    "    H | qsys['r']\n",
    "    \n",
    "step1 = ProtocolStep(domain={'Qubit': ['r']},\n",
    "                     descr = 'Prepare Qubit R by applying H ',\n",
    "                     time  = 0,\n",
    "                     action = action1)"
   ]
  },
  {
   "cell_type": "markdown",
   "metadata": {},
   "source": [
    "In the second action ($t=1$) Alice measures *R* and writes down the result to her memory. Here the *observe* function comes in play: first variable corresponds to the memory (*Alice_memory*), and the second variable - to the system being measured (*alice_qubit*). In the *step2* variable, we again specify the step by its domain - which now includes an object *Alice* of the class *Agent* with 1 memory qubit."
   ]
  },
  {
   "cell_type": "code",
   "execution_count": 4,
   "metadata": {},
   "outputs": [],
   "source": [
    "# Step 2: Alice measures the qubit R\n",
    "# ----------------------------------------------------------\n",
    "@enable_branching()\n",
    "def action2(qsys:QuantumSystem):\n",
    "    observe(qsys['Alice_memory'],qsys['r'])\n",
    "    \n",
    "step2 = ProtocolStep(domain={'Qubit': ['r'],\n",
    "                             'AgentMemory(1)': ['Alice']},\n",
    "                     descr = 'Alice observes R',\n",
    "                     time  = 1,\n",
    "                     action = action2)"
   ]
  },
  {
   "cell_type": "markdown",
   "metadata": {},
   "source": [
    "At $t=2$, Alice makes an inference (which one, we will define later)."
   ]
  },
  {
   "cell_type": "code",
   "execution_count": 5,
   "metadata": {},
   "outputs": [],
   "source": [
    "# Step 3: Alice makes inference\n",
    "# ----------------------------------------------------------\n",
    "@enable_branching()\n",
    "def action3(qsys):\n",
    "    qsys['Alice'].make_inference()\n",
    "\n",
    "\n",
    "step3 = ProtocolStep(domain={'Agent(1,1)': ['Alice']},\n",
    "                     descr='Alice makes an inference',\n",
    "                     time=2,\n",
    "                     action=action3)"
   ]
  },
  {
   "cell_type": "markdown",
   "metadata": {},
   "source": [
    "At $t=3$, Bob performs a CNOT on Alice's lab, using her qubit $R$ as a control."
   ]
  },
  {
   "cell_type": "code",
   "execution_count": 6,
   "metadata": {},
   "outputs": [],
   "source": [
    "# Step 4: Bob applies CNOT to Alice and her qubit\n",
    "# ----------------------------------------------------------\n",
    "@enable_branching()\n",
    "def action4(qsys):\n",
    "    CNOT | (qsys['Alice_memory'], qsys['r'])\n",
    "\n",
    "\n",
    "step4 = ProtocolStep(domain={'Qubit': ['r'],\n",
    "                             'AgentMemory(1)': ['Alice']},\n",
    "                      descr='Apply CNOT to Alices lab',\n",
    "                      time=3,\n",
    "                      action=action4)"
   ]
  },
  {
   "cell_type": "markdown",
   "metadata": {},
   "source": [
    "At $t=4$, Bob measures Alice's memory."
   ]
  },
  {
   "cell_type": "code",
   "execution_count": 7,
   "metadata": {},
   "outputs": [],
   "source": [
    "# Step 6: Bob measures Alice's memory qubit\n",
    "# ----------------------------------------------------------\n",
    "@enable_branching()\n",
    "def action5(qsys:QuantumSystem):\n",
    "    observe(qsys['Bob_memory'],qsys['Alice_memory'])\n",
    "    \n",
    "step5 = ProtocolStep(domain={'AgentMemory(1)': ['Alice'],\n",
    "                             'AgentMemory(1)': ['Bob']},\n",
    "                     descr = 'Bob observes Alice',\n",
    "                     time  = 4,\n",
    "                     action = action5)"
   ]
  },
  {
   "cell_type": "markdown",
   "metadata": {},
   "source": [
    "Now we define the protocol as sum of its steps."
   ]
  },
  {
   "cell_type": "code",
   "execution_count": 8,
   "metadata": {},
   "outputs": [
    {
     "data": {
      "text/plain": [
       "Step 0: Prepare Qubit R by applying H (t:0)\n",
       "Step 1: Alice observes R(t:1)\n",
       "Step 2: Alice makes an inference(t:2)\n",
       "Step 3: Apply CNOT to Alices lab(t:3)\n",
       "Step 4: Bob observes Alice(t:4)\n",
       "\n",
       "Requirements: \n",
       "------------------------------\n",
       "Qubit             ['r']\n",
       "AgentMemory(1)    ['Bob']\n",
       "Agent(1,1)        ['Alice']"
      ]
     },
     "execution_count": 8,
     "metadata": {},
     "output_type": "execute_result"
    }
   ],
   "source": [
    "p_steps = [step1, step2, step3, step4, step5]\n",
    "p = sum(p_steps)\n",
    "p "
   ]
  },
  {
   "cell_type": "markdown",
   "metadata": {},
   "source": [
    "We initialize the quantum system by obtaining the requirements from the protocol *p*."
   ]
  },
  {
   "cell_type": "code",
   "execution_count": 12,
   "metadata": {},
   "outputs": [
    {
     "name": "stdout",
     "output_type": "stream",
     "text": [
      "(Note: This is the (slow) Python simulator.)\n",
      "Require Qubit r\n",
      "Require AgentMemory(1) Bob\n",
      "Require Agent(1,1) Alice\n"
     ]
    }
   ],
   "source": [
    "qsys = QuantumSystem(p.get_requirements())"
   ]
  },
  {
   "cell_type": "markdown",
   "metadata": {},
   "source": [
    "Alice's inference is about the state of Bob's memory after he measures hers at the time $t=4$. In this protocol, we only use the partial inference for Alice's prediction: she only infers what happens in the case when her memory starts in the state |0> (which is the default initial state of the memory). The function then takes form *forward_inference_partial(protocol, 'A_memory', a=0, t_A, 'B_memory', t_B)*."
   ]
  },
  {
   "cell_type": "code",
   "execution_count": 13,
   "metadata": {},
   "outputs": [
    {
     "name": "stdout",
     "output_type": "stream",
     "text": [
      "(Note: This is the (slow) Python simulator.)\n",
      "Require Qubit r\n",
      "Require AgentMemory(1) Bob\n",
      "Require Agent(1,1) Alice\n",
      "===============\n",
      "0 Prepare Qubit R by applying H  t:0\n",
      "Print order:  ['Alice', 'Bob_memory', 'r']\n",
      "---- Branch 0 ----\n",
      "0.71|0000\u001b[0m\u001b[31m0\u001b[0m\u001b[34m0\u001b[0m> + 0.71|0000\u001b[0m\u001b[31m0\u001b[0m\u001b[34m1\u001b[0m>\n",
      "\n",
      "===============\n",
      "1 Alice observes R t:1\n",
      "Print order:  ['Alice', 'Bob_memory', 'r']\n",
      "---- Branch 0 ----\n",
      "0.71|0000\u001b[0m\u001b[31m0\u001b[0m\u001b[34m0\u001b[0m> + 0.71|0001\u001b[0m\u001b[31m0\u001b[0m\u001b[34m1\u001b[0m>\n",
      "\n",
      "XXXXXXXXX Reasoning starts XXXXXXXXXX\n",
      "XXXXXXXXXXXXXXXXXXXX\n",
      "MEMORY STATE OF Alice_memory IS: 0\n",
      "===============\n",
      "2 Alice makes an inference t:2\n",
      "Print order:  ['Alice', 'Bob_memory', 'r']\n",
      "---- Branch 0 ----\n",
      "0.71|0000\u001b[0m\u001b[31m0\u001b[0m\u001b[34m0\u001b[0m> + 0.71|0001\u001b[0m\u001b[31m0\u001b[0m\u001b[34m1\u001b[0m>\n",
      "\n",
      "===============\n",
      "3 Apply CNOT to Alices lab t:3\n",
      "Print order:  ['Alice', 'Bob_memory', 'r']\n",
      "---- Branch 0 ----\n",
      "0.71|0000\u001b[0m\u001b[31m0\u001b[0m\u001b[34m0\u001b[0m> + 0.71|0001\u001b[0m\u001b[31m0\u001b[0m\u001b[34m0\u001b[0m>\n",
      "\n",
      "===============\n",
      "4 Bob observes Alice t:4\n",
      "Print order:  ['Alice', 'Bob_memory', 'r']\n",
      "---- Branch 0 ----\n",
      "0.71|0000\u001b[0m\u001b[31m0\u001b[0m\u001b[34m0\u001b[0m> + 0.71|0001\u001b[0m\u001b[31m1\u001b[0m\u001b[34m0\u001b[0m>\n",
      "\n",
      "POSSIBLE STATES OF Bob_memory ARE: [0, 1]\n",
      "Quantum system reset to: 000000\n",
      "Quantum system reset to: 000000\n",
      "Quantum system reset to: 000000\n",
      "Quantum system reset to: 000000\n"
     ]
    },
    {
     "name": "stderr",
     "output_type": "stream",
     "text": [
      "/Users/nuri/anaconda3/lib/python3.7/site-packages/qthought/agents.py:214: UserWarning: make_inference called without setting an inference_table\n",
      "  warn('make_inference called without setting an inference_table')\n"
     ]
    }
   ],
   "source": [
    "TA = forward_inference_partial(p, 'Alice_memory', 0, 1, 'Bob_memory', 4, silent=False)"
   ]
  },
  {
   "cell_type": "markdown",
   "metadata": {},
   "source": [
    "We prepare the inference table of Alice."
   ]
  },
  {
   "cell_type": "code",
   "execution_count": 14,
   "metadata": {},
   "outputs": [],
   "source": [
    "no_prediction_state = 1\n",
    "qsys['Alice'].set_inference_table(TA, no_prediction_state)\n",
    "qsys['Alice'].prep_inference() "
   ]
  },
  {
   "cell_type": "markdown",
   "metadata": {},
   "source": [
    "Finally, we run the protocol."
   ]
  },
  {
   "cell_type": "code",
   "execution_count": 15,
   "metadata": {
    "scrolled": false
   },
   "outputs": [
    {
     "name": "stdout",
     "output_type": "stream",
     "text": [
      "0 Prepare Qubit R by applying H  t:0\n",
      "State:\n",
      "0.71|0100\u001b[0m\u001b[31m0\u001b[0m\u001b[34m0\u001b[0m> + 0.71|0100\u001b[0m\u001b[31m0\u001b[0m\u001b[34m1\u001b[0m>\n",
      "1 Alice observes R t:1\n",
      "State:\n",
      "0.71|0100\u001b[0m\u001b[31m0\u001b[0m\u001b[34m0\u001b[0m> + 0.71|0101\u001b[0m\u001b[31m0\u001b[0m\u001b[34m1\u001b[0m>\n",
      "2 Alice makes an inference t:2\n",
      "State:\n",
      "0.71|0101\u001b[0m\u001b[31m0\u001b[0m\u001b[34m1\u001b[0m> + 0.71|0110\u001b[0m\u001b[31m0\u001b[0m\u001b[34m0\u001b[0m>\n",
      "3 Apply CNOT to Alices lab t:3\n",
      "State:\n",
      "0.71|0101\u001b[0m\u001b[31m0\u001b[0m\u001b[34m0\u001b[0m> + 0.71|0110\u001b[0m\u001b[31m0\u001b[0m\u001b[34m0\u001b[0m>\n",
      "4 Bob observes Alice t:4\n",
      "State:\n",
      "0.71|0101\u001b[0m\u001b[31m1\u001b[0m\u001b[34m0\u001b[0m> + 0.71|0110\u001b[0m\u001b[31m0\u001b[0m\u001b[34m0\u001b[0m>\n"
     ]
    }
   ],
   "source": [
    "p.run(qsys)"
   ]
  },
  {
   "cell_type": "markdown",
   "metadata": {},
   "source": [
    "We measure Bob's memory,"
   ]
  },
  {
   "cell_type": "code",
   "execution_count": 16,
   "metadata": {},
   "outputs": [
    {
     "name": "stdout",
     "output_type": "stream",
     "text": [
      "Measure Bobs memory:\n",
      "1.0|0110\u001b[0m\u001b[31m0\u001b[0m\u001b[34m0\u001b[0m>\n",
      "b = 0\n"
     ]
    }
   ],
   "source": [
    "print('Measure Bobs memory:')\n",
    "Measure | qsys['Bob_memory']\n",
    "qsys.print_wavefunction()\n",
    "b = int(qsys.readout('Bob_memory'))\n",
    "print('b =',b)"
   ]
  },
  {
   "cell_type": "markdown",
   "metadata": {},
   "source": [
    "and compare it with Alice's prediction which she made at time $t=1$."
   ]
  },
  {
   "cell_type": "code",
   "execution_count": 17,
   "metadata": {},
   "outputs": [
    {
     "data": {
      "text/plain": [
       "In:(Alice_memory:t1)  |  Out: (Bob_memory:t4)\n",
       "----------------------------------------------------\n",
       "           0          |        [0, 1]"
      ]
     },
     "execution_count": 17,
     "metadata": {},
     "output_type": "execute_result"
    }
   ],
   "source": [
    "TA"
   ]
  },
  {
   "cell_type": "markdown",
   "metadata": {},
   "source": [
    "Alice cannot make a deterministic statement about the Bob's measurement outcome at $t=4$, as according to collapse interpretation, after she measures the qubit $R$, her memory collapses to one of the states $|0>_A$ or $|1>_A$."
   ]
  }
 ],
 "metadata": {
  "kernelspec": {
   "display_name": "Python 3 (ipykernel)",
   "language": "python",
   "name": "python3"
  },
  "language_info": {
   "codemirror_mode": {
    "name": "ipython",
    "version": 3
   },
   "file_extension": ".py",
   "mimetype": "text/x-python",
   "name": "python",
   "nbconvert_exporter": "python",
   "pygments_lexer": "ipython3",
   "version": "3.9.10"
  }
 },
 "nbformat": 4,
 "nbformat_minor": 4
}
